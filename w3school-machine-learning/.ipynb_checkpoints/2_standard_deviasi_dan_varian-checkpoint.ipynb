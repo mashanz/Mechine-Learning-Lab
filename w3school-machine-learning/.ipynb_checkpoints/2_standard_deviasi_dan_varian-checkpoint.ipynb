{
 "cells": [
  {
   "cell_type": "markdown",
   "metadata": {},
   "source": [
    "# Standard Deviation\n",
    "\n",
    "Standard deviasi adalah angka persebaran suatu kumpulan nilai dari rata2.\n",
    "Biasanya digunakan untuk merepresentasikan akurasi.\n",
    "\n",
    "Standard deviasi sering di lambangkan dengan Sigma: \n",
    "### σ\n",
    "Varian sering di lambangkan dengan Sigma Kuadrat: \n",
    "### σ2"
   ]
  },
  {
   "cell_type": "code",
   "execution_count": 1,
   "metadata": {},
   "outputs": [],
   "source": [
    "import numpy"
   ]
  },
  {
   "cell_type": "code",
   "execution_count": 3,
   "metadata": {},
   "outputs": [],
   "source": [
    "speed_a = [86,87,88,86,87,85,86]\n",
    "speed_b = [32,111,138,28,59,77,97]"
   ]
  },
  {
   "cell_type": "code",
   "execution_count": 4,
   "metadata": {},
   "outputs": [
    {
     "name": "stdout",
     "output_type": "stream",
     "text": [
      "0.9035079029052513\n"
     ]
    }
   ],
   "source": [
    "x = numpy.std(speed_a)\n",
    "print(x)"
   ]
  },
  {
   "cell_type": "code",
   "execution_count": 5,
   "metadata": {},
   "outputs": [
    {
     "name": "stdout",
     "output_type": "stream",
     "text": [
      "37.84501153334721\n"
     ]
    }
   ],
   "source": [
    "x = numpy.std(speed_b)\n",
    "print(x)"
   ]
  },
  {
   "cell_type": "markdown",
   "metadata": {},
   "source": [
    "# Variance\n",
    "\n",
    "Varian adalah nilah yang mengindikasikan bagaimana persebaran suatu kumpulan nilai\n",
    "\n",
    "cara mendapatkan varian\n",
    "```\n",
    "1. Cari rata rata\n",
    "(32+111+138+28+59+77+97) / 7 = 77.4\n",
    "\n",
    "2. Untuk setiap nilai, cari jarak perbedaan dari rata rata\n",
    " 32 - 77.4 = -45.4\n",
    "111 - 77.4 =  33.6\n",
    "138 - 77.4 =  60.6\n",
    " 28 - 77.4 = -49.4\n",
    " 59 - 77.4 = -18.4\n",
    " 77 - 77.4 = - 0.4\n",
    " 97 - 77.4 =  19.6\n",
    " \n",
    "3. Untuk setiap perbedaan, cari kuadrat dari perbedaanya\n",
    "(-45.4)2 = 2061.16\n",
    " (33.6)2 = 1128.96\n",
    " (60.6)2 = 3672.36\n",
    "(-49.4)2 = 2440.36\n",
    "(-18.4)2 =  338.56\n",
    "(- 0.4)2 =    0.16\n",
    " (19.6)2 =  384.16\n",
    " \n",
    "4.Varian adalah rata2 dari kuadrat perbedaan\n",
    "(2061.16+1128.96+3672.36+2440.36+338.56+0.16+384.16) / 7 = 1432.2\n",
    "```"
   ]
  },
  {
   "cell_type": "code",
   "execution_count": 6,
   "metadata": {},
   "outputs": [
    {
     "name": "stdout",
     "output_type": "stream",
     "text": [
      "0.8163265306122449\n"
     ]
    }
   ],
   "source": [
    "x = numpy.var(speed_a)\n",
    "print(x)"
   ]
  },
  {
   "cell_type": "code",
   "execution_count": 7,
   "metadata": {},
   "outputs": [
    {
     "name": "stdout",
     "output_type": "stream",
     "text": [
      "1432.2448979591834\n"
     ]
    }
   ],
   "source": [
    "x = numpy.var(speed_b)\n",
    "print(x)"
   ]
  }
 ],
 "metadata": {
  "kernelspec": {
   "display_name": "Python 3",
   "language": "python",
   "name": "python3"
  },
  "language_info": {
   "codemirror_mode": {
    "name": "ipython",
    "version": 3
   },
   "file_extension": ".py",
   "mimetype": "text/x-python",
   "name": "python",
   "nbconvert_exporter": "python",
   "pygments_lexer": "ipython3",
   "version": "3.7.7"
  }
 },
 "nbformat": 4,
 "nbformat_minor": 4
}
